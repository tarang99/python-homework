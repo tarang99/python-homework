{
 "cells": [
  {
   "cell_type": "code",
   "execution_count": 1,
   "id": "88688f33-a268-4d80-8f29-d0307b399725",
   "metadata": {},
   "outputs": [],
   "source": [
    "#import file\n",
    "from pathlib import Path\n",
    "import csv\n",
    "csvpath = Path('/Users/tarang/Downloads/budget_data.csv')"
   ]
  },
  {
   "cell_type": "code",
   "execution_count": 7,
   "id": "121f182e-27f5-455b-ac1e-5da9a28b9dde",
   "metadata": {},
   "outputs": [],
   "source": [
    "#open file path with CSV Reader and read the file and header\n",
    "with open(csvpath, 'r') as csvfile:\n",
    "    csv_reader = csv.reader(csvfile, delimiter=',')\n",
    "    csv_header = next(csv_reader)\n",
    "\n",
    "#Create an empty lists to add the csv values\n",
    "    \n",
    "    month_count = []\n",
    "    profit = []\n",
    "    change_profit = []\n",
    "    \n",
    "#iterate through the values and add them to the empty list   \n",
    "    for row in csv_reader:\n",
    "        month_count.append(row[0])\n",
    "        profit.append(int(row[1]))\n",
    "    for i in range(len(profit)-1):\n",
    "        change_profit.append(profit[i+1]-profit[i])"
   ]
  },
  {
   "cell_type": "code",
   "execution_count": 8,
   "id": "a3ad04c3-b5e1-426a-83f0-93632cd35e88",
   "metadata": {},
   "outputs": [],
   "source": [
    "#find min and max \n",
    "increase = max(change_profit)\n",
    "decrease = min(change_profit)"
   ]
  },
  {
   "cell_type": "code",
   "execution_count": 14,
   "id": "4d48cdb2-6d55-4898-b889-2763523a9c81",
   "metadata": {},
   "outputs": [],
   "source": [
    "## Locate the index value of highest and lowest\n",
    "month_increase = change_profit.index(max(change_profit))+1\n",
    "month_decrease = change_profit.index(min(change_profit))+1"
   ]
  },
  {
   "cell_type": "code",
   "execution_count": 15,
   "id": "6b183dae-5ae7-4674-b7a6-ea87496aa956",
   "metadata": {},
   "outputs": [
    {
     "name": "stdout",
     "output_type": "stream",
     "text": [
      "Financial Analysis\n",
      "----------------------------\n",
      "Total Months: 86\n",
      "Total: $38382578\n",
      "Average Change: $-2315.12\n",
      "Greatest Increase in Profits: Feb-2012 ($1926159)\n",
      "Greatest Decrease in Profits: Sep-2013 ($-2196167)\n"
     ]
    }
   ],
   "source": [
    "print(\"Financial Analysis\")\n",
    "print(\"----------------------------\")\n",
    "print(f\"Total Months: {len(month_count)}\")\n",
    "print(f\"Total: ${sum(profit)}\")\n",
    "print(f\"Average Change: ${round(sum(change_profit)/len(change_profit),2)}\")\n",
    "print(f\"Greatest Increase in Profits: {month_count[month_increase]} (${(str(increase))})\")\n",
    "print(f\"Greatest Decrease in Profits: {month_count[month_decrease]} (${(str(decrease))})\")  "
   ]
  },
  {
   "cell_type": "code",
   "execution_count": 18,
   "id": "ec014cb3-0ac4-4afd-b7ff-c43e3fd8969b",
   "metadata": {},
   "outputs": [],
   "source": [
    "#print output as text file\n",
    "import os\n",
    "output = os.path.join(\".\", 'output.txt')\n",
    "with open(output,\"w\") as file:\n",
    "    file.write(\"Financial Analysis\")\n",
    "    file.write(\"\\n\")\n",
    "    file.write(\"------------------------\")\n",
    "    file.write(\"\\n\")\n",
    "    file.write(f\"Total Months:{len(month_count)}\")\n",
    "    file.write(\"\\n\")\n",
    "    file.write(f\"Total: ${sum(profit)}\")\n",
    "    file.write(\"\\n\")\n",
    "    file.write(f\"Average Change: {round(sum(change_profit)/len(change_profit),2)}\")\n",
    "    file.write(\"\\n\")\n",
    "    file.write(f\"Greatest Increase in Profits: {month_count[month_increase]} (${(str(increase))})\")\n",
    "    file.write(\"\\n\")\n",
    "    file.write(f\"Greatest Decrease in Profits: {month_count[month_decrease]} (${(str(decrease))})\")"
   ]
  }
 ],
 "metadata": {
  "kernelspec": {
   "display_name": "Python 3 (ipykernel)",
   "language": "python",
   "name": "python3"
  },
  "language_info": {
   "codemirror_mode": {
    "name": "ipython",
    "version": 3
   },
   "file_extension": ".py",
   "mimetype": "text/x-python",
   "name": "python",
   "nbconvert_exporter": "python",
   "pygments_lexer": "ipython3",
   "version": "3.9.12"
  }
 },
 "nbformat": 4,
 "nbformat_minor": 5
}
